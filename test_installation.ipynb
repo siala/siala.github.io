{
 "cells": [
  {
   "cell_type": "markdown",
   "metadata": {},
   "source": [
    "Simply run the following to test the installation after updating \n",
    "```\n",
    "context.solver.local.execfile\n",
    "```\n",
    "below"
   ]
  },
  {
   "cell_type": "code",
   "execution_count": 1,
   "metadata": {},
   "outputs": [],
   "source": [
    "from docplex.cp.model import *\n",
    "context.solver.agent = 'local'\n",
    "#If you use the solver in INSA: \n",
    "context.solver.local.execfile = '/usr/local/insa/ibm_cplex_studio_2211/cpoptimizer/bin/x86-64_linux/cpoptimizer'\n",
    "#For my personnel machine: \n",
    "context.solver.local.execfile = '/Users/msiala/Applications/CPLEX_Studio2211/cpoptimizer/bin/arm64_osx/cpoptimizer'\n",
    "context.params.set_attribute('Presolve', 'Off')\n",
    "context.params.set_attribute('Workers', 1)\n"
   ]
  },
  {
   "cell_type": "code",
   "execution_count": 2,
   "metadata": {},
   "outputs": [
    {
     "name": "stdout",
     "output_type": "stream",
     "text": [
      " ! --------------------------------------------------- CP Optimizer 22.1.1.0 --\n",
      " ! Satisfiability problem - 3 variables, 3 constraints\n",
      " ! Presolve             = Off\n",
      " ! Workers              = 1\n",
      " ! Initial process time : 0.00s (0.00s extraction + 0.00s propagation)\n",
      " !  . Log search space  : 4.8 (before), 4.8 (after)\n",
      " !  . Memory usage      : 267.0 kB (before), 267.0 kB (after)\n",
      " ! Using sequential search.\n",
      " ! ----------------------------------------------------------------------------\n",
      " !               Branches  Non-fixed            Branch decision\n",
      " *                      3  0.00s                  3  = L_1\n",
      " ! ----------------------------------------------------------------------------\n",
      " ! Search completed, 1 solution found.\n",
      " ! ----------------------------------------------------------------------------\n",
      " ! Number of branches     : 3\n",
      " ! Number of fails        : 0\n",
      " ! Total memory usage     : 684.5 kB (644.8 kB CP Optimizer + 39.6 kB Concert)\n",
      " ! Time spent in solve    : 0.00s (0.00s engine + 0.00s extraction)\n",
      " ! Search speed (br. / s) : 300.0\n",
      " ! ----------------------------------------------------------------------------\n",
      "-------------------------------------------------------------------------------\n",
      "Model constraints: 3, variables: integer: 3, interval: 0, sequence: 0\n",
      "Solve status: Feasible\n",
      "Search status: SearchCompleted, stop cause: SearchHasNotBeenStopped\n",
      "Solve time: 0 sec\n",
      "-------------------------------------------------------------------------------\n",
      "Variables:\n",
      "   L_0 = 2\n",
      "   L_1 = 3\n",
      "   L_2 = 1\n"
     ]
    }
   ],
   "source": [
    "\n",
    "# Create the model\n",
    "mdl = CpoModel()\n",
    "\n",
    "# Create a list of 3 variables with domain [1 .. 3]\n",
    "x, y, z = mdl.integer_var_list(3, 1, 3, 'L')\n",
    "\n",
    "# Add some constraints\n",
    "mdl.add(x != y)\n",
    "mdl.add(y != z)\n",
    "mdl.add(z != x)\n",
    "\n",
    "#code here\n",
    "# Solve the model\n",
    "sol = mdl.solve()\n",
    "\n",
    "# Print the solution\n",
    "sol.print_solution()"
   ]
  }
 ],
 "metadata": {
  "kernelspec": {
   "display_name": "Python 3",
   "language": "python",
   "name": "python3"
  },
  "language_info": {
   "codemirror_mode": {
    "name": "ipython",
    "version": 3
   },
   "file_extension": ".py",
   "mimetype": "text/x-python",
   "name": "python",
   "nbconvert_exporter": "python",
   "pygments_lexer": "ipython3",
   "version": "3.12.4"
  }
 },
 "nbformat": 4,
 "nbformat_minor": 2
}
