{
 "cells": [
  {
   "cell_type": "markdown",
   "id": "01374815",
   "metadata": {},
   "source": [
    "Complete the following box to setup your configuration"
   ]
  },
  {
   "cell_type": "code",
   "execution_count": 1,
   "id": "5c408b8f",
   "metadata": {},
   "outputs": [],
   "source": [
    "from docplex.cp.model import *\n",
    "context.solver.agent = 'local'\n",
    "#context.solver.local.execfile = 'Path to the binary cpoptimizer' --> At INSA we use the following: \n",
    "context.solver.local.execfile = '/usr/local/insa/ibm_cplex_studio_2211/cpoptimizer/bin/x86-64_linux/cpoptimizer'\n",
    "context.verbose = 0\n",
    "\n",
    "\n",
    "\n",
    "#The solver's documentation is here \n",
    "#https://ibmdecisionoptimization.github.io/docplex-doc/cp/index.html"
   ]
  },
  {
   "cell_type": "markdown",
   "id": "0fa3d905",
   "metadata": {},
   "source": [
    "Please use the following parameters each time you call the solver "
   ]
  },
  {
   "cell_type": "code",
   "execution_count": 2,
   "id": "5ba70094",
   "metadata": {},
   "outputs": [],
   "source": [
    "myparams = CpoParameters(TimeLimit= 20,\n",
    "                            LogVerbosity=\"Quiet\" ,\n",
    "                             SearchType = 'DepthFirst',\n",
    "                             Presolve = 'Off',\n",
    "                             Workers=  1,\n",
    "                             RandomSeed = 2)"
   ]
  },
  {
   "cell_type": "markdown",
   "id": "8a8a4030",
   "metadata": {},
   "source": [
    "You can add as many cells as you want. Make sure to choose \"Markdown\" instead of \"code\" if you want to write in a natural language. \n",
    "\n",
    "When submitting your work, please re-execute the notebook from the start and do not remove the output. "
   ]
  },
  {
   "cell_type": "markdown",
   "id": "6750d8f4",
   "metadata": {},
   "source": [
    "We want to set up a speed interview event between $n$ students and $n$ companies. Each student has a unique list that reflects his preferences towards companies. The first element is the most prefered company, the second one is the second most prefered, etc. For instance, if Alice's list of preferences is [4,1,3,2]. Then she prefers to be assigned to  company 4, then 1, then 3, then 2. Similarly, each company has a list of preferences towards students. The preferences represent a strict order (i.e., no ties). \n",
    "\n",
    "A matching $M$ is a one-to-one mapping from students to companies. Let $s$ be a student and $c$ be a company. The pair $(s,c)$ is unhappy in $M$ if they prefer to be together compared to their situation in $M$. That is, if $M[s] =c' $ and $ s' = M^{-1}[c]$ then $s$ prefers c than $c'$, and $c$ prefers $s$ than $s'$. \n",
    "\n",
    "\n",
    "The stable interview problem is the problem of finding a matching that has no unhappy pair. "
   ]
  },
  {
   "cell_type": "markdown",
   "id": "23521581",
   "metadata": {},
   "source": [
    "# Example "
   ]
  },
  {
   "cell_type": "markdown",
   "id": "4849c7b4",
   "metadata": {},
   "source": [
    "The following code generates a random list of preferences"
   ]
  },
  {
   "cell_type": "code",
   "execution_count": 3,
   "id": "59fa9dcb",
   "metadata": {},
   "outputs": [],
   "source": [
    "import numpy as np\n",
    "import random\n",
    "\n",
    "#Run The model \n",
    "# Example data\n",
    "def generate_random_list(n) : \n",
    "    my_list = [i for i in range (n)]\n",
    "    return random.sample(my_list, len(my_list))"
   ]
  },
  {
   "cell_type": "markdown",
   "id": "bf9286d0",
   "metadata": {},
   "source": [
    "To generate a random instance of the speed interview problem, we use the following function "
   ]
  },
  {
   "cell_type": "code",
   "execution_count": 4,
   "id": "f13378b1",
   "metadata": {},
   "outputs": [],
   "source": [
    "#Gererate an instance of size $6$\n",
    "def generate_random_instance(n) : \n",
    "\n",
    "    s = [generate_random_list(n) for i in range(n)]\n",
    "    c = [generate_random_list(n) for i in range(n)]\n",
    "    return s, c\n"
   ]
  },
  {
   "cell_type": "markdown",
   "id": "bbba980c",
   "metadata": {},
   "source": [
    "Generate a random instance of size 4"
   ]
  },
  {
   "cell_type": "code",
   "execution_count": 5,
   "id": "cd1e08e0",
   "metadata": {},
   "outputs": [
    {
     "name": "stdout",
     "output_type": "stream",
     "text": [
      "\n",
      "students_preferences:\n",
      "[[1 3 2 0]\n",
      " [0 3 2 1]\n",
      " [0 1 2 3]\n",
      " [3 2 1 0]]\n",
      "\n",
      "companies_preferences Preferences:\n",
      "[[2 3 0 1]\n",
      " [3 2 0 1]\n",
      " [3 1 0 2]\n",
      " [0 2 1 3]]\n"
     ]
    }
   ],
   "source": [
    "#Example with n= 6\n",
    "n=4 \n",
    "students_preferences, companies_preferences = generate_random_instance(n)\n",
    "\n",
    "print(\"\\nstudents_preferences:\")\n",
    "print(np.matrix(students_preferences))\n",
    "\n",
    "print(\"\\ncompanies_preferences Preferences:\")\n",
    "print(np.matrix(companies_preferences))\n"
   ]
  },
  {
   "cell_type": "code",
   "execution_count": null,
   "id": "ef929ad7",
   "metadata": {},
   "outputs": [],
   "source": []
  },
  {
   "cell_type": "markdown",
   "id": "65d403c7",
   "metadata": {},
   "source": [
    "\n",
    "\n",
    "Complete the following function to model the stable interview problem. Do not call the solver to search for solutions in this function. We will do it saperately later. \n",
    "\n",
    "\n",
    "You can use the element expression if you want (but it is not mandatory) :  https://ibmdecisionoptimization.github.io/docplex-doc/cp/docplex.cp.modeler.py.html?highlight=element#docplex.cp.modeler.element"
   ]
  },
  {
   "cell_type": "code",
   "execution_count": 6,
   "id": "91bb23c0",
   "metadata": {},
   "outputs": [],
   "source": [
    "def stable_interview (n, students_preferences, companies_preferences):\n",
    "        \n",
    "    return ... "
   ]
  },
  {
   "cell_type": "markdown",
   "id": "5610473b",
   "metadata": {},
   "source": [
    "Test your function on an instance of size n= 10. Ask the solver to generate only one solution"
   ]
  },
  {
   "cell_type": "code",
   "execution_count": null,
   "id": "f2efa181",
   "metadata": {},
   "outputs": [],
   "source": []
  },
  {
   "cell_type": "markdown",
   "id": "e7de173f",
   "metadata": {},
   "source": [
    "How many decisions are made ? "
   ]
  },
  {
   "cell_type": "code",
   "execution_count": null,
   "id": "5eeb9932",
   "metadata": {},
   "outputs": [],
   "source": []
  },
  {
   "cell_type": "markdown",
   "id": "dcdc24a7",
   "metadata": {},
   "source": [
    "How many failures are made ? "
   ]
  },
  {
   "cell_type": "code",
   "execution_count": null,
   "id": "9b0767e5",
   "metadata": {},
   "outputs": [],
   "source": []
  },
  {
   "cell_type": "markdown",
   "id": "ff193ec2",
   "metadata": {},
   "source": [
    "What is the runtime ? "
   ]
  },
  {
   "cell_type": "code",
   "execution_count": null,
   "id": "69173f91",
   "metadata": {},
   "outputs": [],
   "source": []
  },
  {
   "cell_type": "markdown",
   "id": "8680b0b8",
   "metadata": {},
   "source": [
    "Without changing your model, did you use an implied constraint? if yes, which one ? If no, can you find one (again without modifying the model) ? "
   ]
  },
  {
   "cell_type": "code",
   "execution_count": null,
   "id": "264996d4",
   "metadata": {},
   "outputs": [],
   "source": []
  },
  {
   "cell_type": "markdown",
   "id": "d3bd4554",
   "metadata": {},
   "source": [
    "We want to setup a user-friendly solution printer. Let $CompanyOf[s]$ be the company to which student $s$ is matched. Similarly, we denote by $StudentOf[c]$ the student assigned to company $c$. \n"
   ]
  },
  {
   "cell_type": "markdown",
   "id": "8acc9fe6",
   "metadata": {},
   "source": [
    "Solve again the problem for n= 10, construct the lists $CompanyOf$ and  $StudentOf$, then print them. "
   ]
  },
  {
   "cell_type": "code",
   "execution_count": null,
   "id": "b39f497e",
   "metadata": {},
   "outputs": [],
   "source": []
  },
  {
   "cell_type": "markdown",
   "id": "020cdad8",
   "metadata": {},
   "source": [
    "We want to automate the experiments. Complete the following function that takes as input n, generates a new random instance, solve it, then returns the search status, the number of decisions, the number of failures, and the runtime"
   ]
  },
  {
   "cell_type": "code",
   "execution_count": 7,
   "id": "aad8f278",
   "metadata": {},
   "outputs": [],
   "source": [
    "def run_decision_version(n) : \n",
    "    \n",
    "    ...\n",
    "    return status, nb_decisions, nb_failures, runtime"
   ]
  },
  {
   "cell_type": "markdown",
   "id": "53a92054",
   "metadata": {},
   "source": [
    "Test your function with a random instance. Print the status, the number of decisions, the number of failures, and the runtime"
   ]
  },
  {
   "cell_type": "code",
   "execution_count": null,
   "id": "4a17a9f6",
   "metadata": {},
   "outputs": [],
   "source": []
  },
  {
   "cell_type": "markdown",
   "id": "18bf93b4",
   "metadata": {},
   "source": [
    "Test the run function with four different sizes\n"
   ]
  },
  {
   "cell_type": "code",
   "execution_count": null,
   "id": "09296900",
   "metadata": {},
   "outputs": [],
   "source": []
  },
  {
   "cell_type": "markdown",
   "id": "ade4e472",
   "metadata": {},
   "source": [
    "Find 10 different numbers $n_1 > n_2, \\ldots > n_{10}$ such that the solver needs between $10$s to $20$s to find a solution for each size"
   ]
  },
  {
   "cell_type": "code",
   "execution_count": null,
   "id": "751a07ce",
   "metadata": {},
   "outputs": [],
   "source": []
  },
  {
   "cell_type": "markdown",
   "id": "43f329cd",
   "metadata": {},
   "source": [
    "Choose two completely different search strategies, then run them on a random instance"
   ]
  },
  {
   "cell_type": "code",
   "execution_count": null,
   "id": "77de6864",
   "metadata": {},
   "outputs": [],
   "source": []
  },
  {
   "cell_type": "markdown",
   "id": "2a311fbc",
   "metadata": {},
   "source": [
    "Run an experimental study to campare the two search strategies in terms of the number of decisions and runtime on 20 instances of different sizes of your choice. We expect to have a visual comparision in the form of plots"
   ]
  },
  {
   "cell_type": "code",
   "execution_count": null,
   "id": "65047e7b",
   "metadata": {},
   "outputs": [],
   "source": []
  },
  {
   "cell_type": "markdown",
   "id": "6ee0dc6e",
   "metadata": {},
   "source": [
    "We want to give more previlage to students. Let $M$ be a solution and let $Index[s]$ be the index of $M[s]$ in the preference list of $s$. We want to minimize the maximum value of $\\{Index[1], \\ldots Index[N] \\}$. Complete the following function to model for this optimisation problem. "
   ]
  },
  {
   "cell_type": "code",
   "execution_count": 8,
   "id": "9e368a13",
   "metadata": {},
   "outputs": [],
   "source": [
    "def optimal_stable_interview (n, students_preferences, companies_preferences):\n",
    "        \n",
    "    return "
   ]
  },
  {
   "cell_type": "markdown",
   "id": "475ad1e9",
   "metadata": {},
   "source": [
    "Test your model"
   ]
  },
  {
   "cell_type": "code",
   "execution_count": null,
   "id": "4834bcbb",
   "metadata": {},
   "outputs": [],
   "source": []
  }
 ],
 "metadata": {
  "kernelspec": {
   "display_name": "Python 3 (ipykernel)",
   "language": "python",
   "name": "python3"
  },
  "language_info": {
   "codemirror_mode": {
    "name": "ipython",
    "version": 3
   },
   "file_extension": ".py",
   "mimetype": "text/x-python",
   "name": "python",
   "nbconvert_exporter": "python",
   "pygments_lexer": "ipython3",
   "version": "3.9.12"
  }
 },
 "nbformat": 4,
 "nbformat_minor": 5
}
