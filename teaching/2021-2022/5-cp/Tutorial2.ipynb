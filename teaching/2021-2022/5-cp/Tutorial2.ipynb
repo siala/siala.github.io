{
 "cells": [
  {
   "cell_type": "markdown",
   "metadata": {},
   "source": [
    "# Tutorial 2 - The Queens & The Art of Branching"
   ]
  },
  {
   "cell_type": "markdown",
   "metadata": {},
   "source": [
    "**Important:** You must fully complete Tutorial $i-1$ before starting Tutorial $i$ ($i>1$).\n",
    "\n",
    "Constraint programming is used to solve highly combinatorial and complex problems. \n",
    "In order to master CP, you need to get used to the philosophy behind this approach as well as the different \n",
    "techniques used along with it. We will guide you in this process step by step in the upcoming tutorials. We will be using \"toy\" puzzles/problems only for the purpose of learning different faces of CP. In real life problems, things get messed up easily and require decision and policy makes to agree opon the problem at hand.. (Trust us, we've been there..) \n",
    "\n",
    "In this tutorial, we use the N-Queens problem, one of oldest and classical problems solved efficiently by CP, as a case study. "
   ]
  },
  {
   "cell_type": "markdown",
   "metadata": {},
   "source": [
    "## 1. The N-Queens problem"
   ]
  },
  {
   "cell_type": "markdown",
   "metadata": {},
   "source": [
    "You are given an N-by-N chessboard, and your goal is to place N chess queens on it so that no two queens threaten each other:\n",
    "\n",
    "<div class=\"row\" style=\"margin-top: 10px\">\n",
    "    <div class=\"col-md-5\">\n",
    "        <img src=\"display/images/empty-chessboard.png\" style=\"margin-right: 0; width: 160px;\" />\n",
    "    </div>\n",
    "    <div class=\"col-md-2\" style=\"display: table\">\n",
    "        <i class=\"fa fa-arrow-right\" style=\"display: table-cell; font-size: 50px; \n",
    "        margin: auto; text-align: center; vertical-align: middle; height: 150px\"></i>\n",
    "    </div>\n",
    "    <div class=\"col-md-5\">\n",
    "        <img src=\"display/images/nqueens8-chessboard.png\" style=\"margin-left: 0; width: 160px;\" />\n",
    "    </div>\n",
    "</div>\n",
    "\n",
    "Formally, a solution to the N-queens problem requires that no two queens share the same row, column or diagnoal."
   ]
  },
  {
   "cell_type": "markdown",
   "metadata": {},
   "source": [
    "### 1.1. Model without global constraints"
   ]
  },
  {
   "cell_type": "markdown",
   "metadata": {},
   "source": [
    "**Exercice**: Create a function `decomposition_model(N)` that models the problem using only binary inequality constrants (no global constraint) and returns an instance of `CpoModel` for the n-queens problem with `N` queens."
   ]
  },
  {
   "cell_type": "code",
   "execution_count": null,
   "metadata": {},
   "outputs": [],
   "source": []
  },
  {
   "cell_type": "code",
   "execution_count": null,
   "metadata": {},
   "outputs": [],
   "source": []
  },
  {
   "cell_type": "markdown",
   "metadata": {},
   "source": [
    "**Exercice:** Test your function by solving the n-queens problem for small values of $N$ ($N < 20$).\n",
    "\n",
    "<div class=\"alert alert-block alert-info\">\n",
    "    \n",
    "Use the `display.n_queens` function in order to display a solution for the n-queens problem. This function can take a list of `int` corresponding to the column of the queens in order to display them.\n",
    "    \n",
    "</div>"
   ]
  },
  {
   "cell_type": "code",
   "execution_count": null,
   "metadata": {},
   "outputs": [],
   "source": []
  },
  {
   "cell_type": "markdown",
   "metadata": {},
   "source": [
    "**Question**: How many solutions are there for $N = 3,~\\ldots,~10$? \n",
    "\n",
    "**Note:** To answer this question, you must force the solver to use a depth first strategy using  `CpoModel.start_search(SearchType=\"DepthFirst\")`."
   ]
  },
  {
   "cell_type": "code",
   "execution_count": null,
   "metadata": {},
   "outputs": [],
   "source": []
  },
  {
   "cell_type": "markdown",
   "metadata": {},
   "source": [
    "### 1.2. Model with global constraints"
   ]
  },
  {
   "cell_type": "markdown",
   "metadata": {},
   "source": [
    "**Exercice:** Create a function `global_constraint_model(N)` that models and returns an instance of `CpoModel` for the n-queens problem with `N` queens, using **only** and exaclty 3 global constraints."
   ]
  },
  {
   "cell_type": "code",
   "execution_count": null,
   "metadata": {},
   "outputs": [],
   "source": []
  },
  {
   "cell_type": "markdown",
   "metadata": {},
   "source": [
    "**Exercice:** Test your function by solving the n-queens problem for small values of $N$ ($N < 20$)."
   ]
  },
  {
   "cell_type": "code",
   "execution_count": null,
   "metadata": {},
   "outputs": [],
   "source": []
  },
  {
   "cell_type": "markdown",
   "metadata": {},
   "source": [
    "**Question**: How many solutions are there for $N = 3,~\\ldots,~10$?\n",
    "\n",
    "**Important:** You should obtain the same number as the previous model!"
   ]
  },
  {
   "cell_type": "code",
   "execution_count": null,
   "metadata": {},
   "outputs": [],
   "source": []
  },
  {
   "cell_type": "markdown",
   "metadata": {},
   "source": [
    "## 2. Comparison of the two models"
   ]
  },
  {
   "cell_type": "markdown",
   "metadata": {},
   "source": [
    "We will compare the two models properly. \n",
    "\n",
    "**Exercice:** Consider the `run(model, params)` function that we used in the first tutorial and paste it here."
   ]
  },
  {
   "cell_type": "code",
   "execution_count": null,
   "metadata": {},
   "outputs": [],
   "source": []
  },
  {
   "cell_type": "markdown",
   "metadata": {},
   "source": [
    "### 2.1. Basic comparison\n",
    "\n",
    "To compare the two models, we will fix the time limit to 5 seconds, i.e. `TimeLimit=5`, while keeping all the other parameters to their default values."
   ]
  },
  {
   "cell_type": "markdown",
   "metadata": {},
   "source": [
    "**Exercice:** Compare the two models for $N \\in \\{200, 400, 600, .., 2000 \\}$. \n",
    "\n",
    "<div class=\"alert alert-block alert-info\">\n",
    "    \n",
    "By *comparing* we mean plotting the runtime **and** the number of decisions made by the solver for each model as a function of $n$\n",
    "    \n",
    "</div>"
   ]
  },
  {
   "cell_type": "code",
   "execution_count": null,
   "metadata": {},
   "outputs": [],
   "source": []
  },
  {
   "cell_type": "raw",
   "metadata": {},
   "source": []
  },
  {
   "cell_type": "code",
   "execution_count": null,
   "metadata": {},
   "outputs": [],
   "source": []
  },
  {
   "cell_type": "markdown",
   "metadata": {},
   "source": [
    "**Question:** What do you observe? Why? "
   ]
  },
  {
   "cell_type": "raw",
   "metadata": {},
   "source": []
  },
  {
   "cell_type": "markdown",
   "metadata": {},
   "source": [
    "### 2.2. Branching strategies\n",
    "\n",
    "\n",
    "**Important:** Before you start this part, please ask one of your supervisors to check on your work.\n",
    "\n",
    "A CP solver is, at the end of the day, a backtracking solver. At each node, it applies filtering (called also propagation or pruning), then make a decision about the next node to explore. This decision is a pure heuristic choice, that is, it could be a wrong decision, it is only based on intuition. \n",
    "\n",
    "In CP, a decision is, most of the times, of the type: choose an unassigned variable $x$, choose a value $v$ from the current domain of $x$, and assign $v$ to $x$. These steps require a variable heuristic and a value heuristic. This is what we call branching strategy. \n",
    "\n",
    "Branching strategies can be generic (strategies that can be used for any problem), or specific (designed for the problem at hand). In CPOptimizer, there are a number of genereic strategies offered. This concerns both variable and value heuristics. \n",
    "\n",
    "For example, if $L$ is the list of decision variables, then by declaring a search_phase as follows: \n",
    "\n",
    "```python\n",
    "SearchPhase= model.search_phase(L, \n",
    "                                varchooser=model.select_smallest(model.domain_size()),\n",
    "                                valuechooser=model.select_random_value())\n",
    "\n",
    "model.add_search_phase(SearchPhase)\n",
    "```\n",
    "\n",
    "The variable heuristic here is the one that picks the variable $x$ with the smallest domain size, and assigns a random value from its domain to it. \n",
    "\n",
    "\n",
    "Read about the different search strategies here: \n",
    "http://ibmdecisionoptimization.github.io/docplex-doc/cp/docplex.cp.modeler.py.html#search-phases\n",
    "\n",
    "\n",
    "We want to evaluate different strategies: \n",
    "- For variable evaluators, we will use \n",
    " - `domain_size()`\n",
    " - `var_impact()`\n",
    " - `var_local_impact()`\n",
    " - `var_index()`\n",
    " \n",
    "- For value evaluators, we will use \n",
    " - `value_impact()`\n",
    " - `value_index()`\n",
    " \n",
    "As for the selectors we will use : \n",
    "- `select_smallest()` \n",
    "- `select_largest()`\n",
    "\n",
    "**Question:** How many strategies are we going to evaluate? "
   ]
  },
  {
   "cell_type": "raw",
   "metadata": {},
   "source": []
  },
  {
   "cell_type": "markdown",
   "metadata": {},
   "source": [
    "**Question:** In addition to the above strategies, we will use also a pure random selection for variables and values. How can we use such a branching heuristic? "
   ]
  },
  {
   "cell_type": "raw",
   "metadata": {},
   "source": []
  },
  {
   "cell_type": "markdown",
   "metadata": {},
   "source": [
    "Using the global constraints model, run the different strategies (**all of them, and pure random**) for different values of $N$. Make sure you choose a good value of $N$ that can assess your claims of evaluation. Feel free to use any reasnable time limit. \n",
    "\n",
    "<div class=\"alert alert-block alert-danger\">\n",
    "\n",
    "**Important:** For this exercice, you must set the `SearchType` to `DepthFirst` using `SearchType=\"DepthFirst\"` when calling `run`.\n",
    "\n",
    "We will investigate deeply this choice in the next tutorial. But at this stage you should trust us and include it in the solver's parameters.\n",
    "    \n",
    "</div>\n",
    "\n",
    "**Exercice:** Present the results (rutime + number of nodes) via a table first then using plots. "
   ]
  },
  {
   "cell_type": "code",
   "execution_count": null,
   "metadata": {},
   "outputs": [],
   "source": []
  },
  {
   "cell_type": "code",
   "execution_count": null,
   "metadata": {},
   "outputs": [],
   "source": []
  },
  {
   "cell_type": "code",
   "execution_count": null,
   "metadata": {},
   "outputs": [],
   "source": []
  },
  {
   "cell_type": "code",
   "execution_count": null,
   "metadata": {},
   "outputs": [],
   "source": []
  },
  {
   "cell_type": "markdown",
   "metadata": {},
   "source": [
    "# Plots"
   ]
  },
  {
   "cell_type": "code",
   "execution_count": null,
   "metadata": {},
   "outputs": [],
   "source": []
  },
  {
   "cell_type": "markdown",
   "metadata": {},
   "source": [
    "# Compare value chooser"
   ]
  },
  {
   "cell_type": "markdown",
   "metadata": {},
   "source": [
    "## var chooser = select smallest"
   ]
  },
  {
   "cell_type": "code",
   "execution_count": null,
   "metadata": {},
   "outputs": [],
   "source": []
  },
  {
   "cell_type": "code",
   "execution_count": null,
   "metadata": {},
   "outputs": [],
   "source": []
  },
  {
   "cell_type": "code",
   "execution_count": null,
   "metadata": {},
   "outputs": [],
   "source": []
  },
  {
   "cell_type": "code",
   "execution_count": null,
   "metadata": {},
   "outputs": [],
   "source": []
  },
  {
   "cell_type": "markdown",
   "metadata": {},
   "source": [
    "## varchooser = select largest"
   ]
  },
  {
   "cell_type": "code",
   "execution_count": null,
   "metadata": {},
   "outputs": [],
   "source": []
  },
  {
   "cell_type": "code",
   "execution_count": null,
   "metadata": {},
   "outputs": [],
   "source": []
  },
  {
   "cell_type": "code",
   "execution_count": null,
   "metadata": {},
   "outputs": [],
   "source": []
  },
  {
   "cell_type": "code",
   "execution_count": null,
   "metadata": {},
   "outputs": [],
   "source": []
  },
  {
   "cell_type": "markdown",
   "metadata": {},
   "source": [
    "# Compare var chooser"
   ]
  },
  {
   "cell_type": "markdown",
   "metadata": {},
   "source": [
    "## Value chooser = smallest value impact"
   ]
  },
  {
   "cell_type": "code",
   "execution_count": null,
   "metadata": {},
   "outputs": [],
   "source": []
  },
  {
   "cell_type": "markdown",
   "metadata": {},
   "source": [
    "## Value chooser = smallest value index"
   ]
  },
  {
   "cell_type": "code",
   "execution_count": null,
   "metadata": {},
   "outputs": [],
   "source": []
  },
  {
   "cell_type": "markdown",
   "metadata": {},
   "source": [
    "## Value chooser = largest value impact"
   ]
  },
  {
   "cell_type": "code",
   "execution_count": null,
   "metadata": {},
   "outputs": [],
   "source": []
  },
  {
   "cell_type": "markdown",
   "metadata": {},
   "source": [
    "## Value chooser = larget value index"
   ]
  },
  {
   "cell_type": "code",
   "execution_count": null,
   "metadata": {},
   "outputs": [],
   "source": []
  },
  {
   "cell_type": "markdown",
   "metadata": {},
   "source": [
    "## Random select"
   ]
  },
  {
   "cell_type": "code",
   "execution_count": null,
   "metadata": {},
   "outputs": [],
   "source": []
  },
  {
   "cell_type": "code",
   "execution_count": null,
   "metadata": {},
   "outputs": [],
   "source": []
  },
  {
   "cell_type": "markdown",
   "metadata": {},
   "source": [
    "**Question:** Is this what you expect? Is the choice of the branching strategy important? Justify."
   ]
  },
  {
   "cell_type": "markdown",
   "metadata": {},
   "source": [
    "On attendait plus de variations et moins de timeout : presque toutes les stratégies ont un timeout après n=50"
   ]
  },
  {
   "cell_type": "markdown",
   "metadata": {},
   "source": [
    "**Question:** What is more important, the variable ordering or the value ordering choice? Justify."
   ]
  },
  {
   "cell_type": "markdown",
   "metadata": {},
   "source": [
    "Pour un value chooser donné, le choix du var chooser impacte plus les résultats. Alors que sur les plots on remarque que pour un var chooser donné, le value chooser ne change rien aux résultats."
   ]
  },
  {
   "cell_type": "markdown",
   "metadata": {},
   "source": [
    "**Question:** What is the best variable ordering choice? Justify."
   ]
  },
  {
   "cell_type": "markdown",
   "metadata": {},
   "source": [
    "Le meilleur semble être le smallest domain size : il a le moins de timeout, le moins de noeuds, et le plus de solutions feasible (les autres ont trop de unknown)"
   ]
  },
  {
   "cell_type": "markdown",
   "metadata": {},
   "source": [
    "**Question:** What is the best value ordering choice? Justify."
   ]
  },
  {
   "cell_type": "markdown",
   "metadata": {},
   "source": [
    "Pas de différences observées"
   ]
  },
  {
   "cell_type": "markdown",
   "metadata": {},
   "source": [
    "**Question:** What is a good branching overall? Any thoughts why this is the case? Justify."
   ]
  },
  {
   "cell_type": "markdown",
   "metadata": {},
   "source": [
    "Le random est étonnement plutôt bon dans notre cas"
   ]
  },
  {
   "cell_type": "markdown",
   "metadata": {},
   "source": [
    "**Question:** Did you observe an opposite behaviour of heuristics betwen the runtime and the number of nodes? \n",
    "For instance, is there a strategy that is faster than others to solve the problem but requires a larger number of nodes? \n",
    "And conversely, is there a heuristic that is slow to solve the problem than others but uses less nodes? \n",
    "If you observe this, why is this happening?"
   ]
  },
  {
   "cell_type": "raw",
   "metadata": {},
   "source": []
  },
  {
   "cell_type": "markdown",
   "metadata": {},
   "source": [
    "## 3. Conclusion\n",
    "\n",
    "**Question:** What did you learn today? "
   ]
  },
  {
   "cell_type": "markdown",
   "metadata": {},
   "source": []
  },
  {
   "cell_type": "markdown",
   "metadata": {},
   "source": [
    "<div class=\"alert alert-block alert-danger\"></div>"
   ]
  }
 ],
 "metadata": {
  "kernelspec": {
   "display_name": "Python 3",
   "language": "python",
   "name": "python3"
  },
  "language_info": {
   "codemirror_mode": {
    "name": "ipython",
    "version": 3
   },
   "file_extension": ".py",
   "mimetype": "text/x-python",
   "name": "python",
   "nbconvert_exporter": "python",
   "pygments_lexer": "ipython3",
   "version": "3.7.6"
  }
 },
 "nbformat": 4,
 "nbformat_minor": 2
}
