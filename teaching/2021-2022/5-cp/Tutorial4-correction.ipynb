{
 "cells": [
  {
   "cell_type": "markdown",
   "metadata": {},
   "source": [
    "# Tutorial 4: Scheduling with CP: Some Basics "
   ]
  },
  {
   "cell_type": "markdown",
   "metadata": {},
   "source": [
    "Today we discover a new family of problems, called scheduling. Scheduling problems are widely present in real life applications such as timetabelling, transportation, project management, and manufacturing. We consider a particular problem called the job shop scheduling problem.  In this problem, we are given a set of $n$ jobs: $J_1, J_2, \\ldots,  J_n$ and a set of $m$ machines $M_1, M_2, \\ldots,  M_m$. \n",
    "Each job $J_i$ is defined by a set of $m$ (non-preemptive) tasks $T_{i,1} \\ldots T_{i,m}$. Every task $T_{i,k}$ is associated with a duration $p_{i,k}$ and is supposed to be scheduled on machine $M_k$. \n",
    "\n",
    "The problem has two sets of constraints: \n",
    "\n",
    " - Precedence constraints: Each job is associated with an order of tasks to respect when scheduling the different tasks.\n",
    " - Disjunctive constraints: Each machine can process only one task at a given time\n",
    "\n",
    "\n",
    "The standard optimisation version of this problem asks to minimize the makespan, i.e., the total scheduling time.\n"
   ]
  },
  {
   "cell_type": "markdown",
   "metadata": {},
   "source": [
    "Constraint programming has been widely and successfully used to solve scheduling problems. Many global constraints have been proposed. CP solvers often offer a dedicated library for scheduling. \n",
    "Please have a look at the diffrent features proposed in docplex here http://ibmdecisionoptimization.github.io/docplex-doc/cp/docplex.cp.modeler.py.html?highlight=scheduling#scheduling-functions \n"
   ]
  },
  {
   "cell_type": "markdown",
   "metadata": {},
   "source": [
    "In this tutorial, we will be using (only): \n",
    " - Interval variables for the different variables of the problem:  http://ibmdecisionoptimization.github.io/docplex-doc/cp/docplex.cp.expression.py.html?highlight=interval_var#docplex.cp.expression.interval_var\n",
    " \n",
    " - end_before_start constraints to model precedence constraints : http://ibmdecisionoptimization.github.io/docplex-doc/cp/docplex.cp.modeler.py.html?highlight=end_before_start#docplex.cp.modeler.end_before_start\n",
    "\n",
    "- no_overlap global constraint : http://ibmdecisionoptimization.github.io/docplex-doc/cp/docplex.cp.modeler.py.html?highlight=no_overlap#docplex.cp.modeler.no_overlap\n"
   ]
  },
  {
   "cell_type": "markdown",
   "metadata": {},
   "source": [
    "The format for a job shop scheduling instance respects the following syntax: \n",
    " - The first line containts only $n$ $m$ in this order  ($n$ is the number of jobs and $m$ is the number of machines)\n",
    " - Then $n$ lines are given. Each line $i$ is associated to the job $J_i$ and contains exactly $2 m$ integers $x^i_1$ $d^i_1$ $x^i_2$ $d^i_2$ $\\ldots$ $x^i_n$ $d^i_n$. Each $x^i_k$ is the $k^{th}$ machine required by the $k^{th}$ task of the job $J_i$, and $d^i_k$ represents its duration. "
   ]
  },
  {
   "cell_type": "markdown",
   "metadata": {},
   "source": [
    "Consider for example the data file instance.data : \n",
    "    \n",
    " 6  6\n",
    "     \n",
    "2   1  0   3  1   6  3   7  5   3  4   6\n",
    "\n",
    "1   8  2   5  4  10  5  10  0  10  3   4\n",
    "\n",
    "2   5  3   4  5   8  0   9  1   1  4   7\n",
    " \n",
    " 1   5  0   5  2   5  3   3  4   8  5   9\n",
    " \n",
    " 2   9  1   3  4   5  5   4  0   3  3   1\n",
    " \n",
    " 1   3  3   3  5   9  0  10  4   4  2   1\n"
   ]
  },
  {
   "cell_type": "markdown",
   "metadata": {},
   "source": [
    "This instance has $6$ jobs and $6$ machines. The first job requires the execution of task $T_{1,2}$ (on machine $2$) of duration $1$, \n",
    "then $T_{1,0}$ (on machine $0$) of duration $3$, etc. "
   ]
  },
  {
   "cell_type": "markdown",
   "metadata": {},
   "source": [
    "Write a simple python code to parse the data file instance.data"
   ]
  },
  {
   "cell_type": "code",
   "execution_count": 1,
   "metadata": {},
   "outputs": [
    {
     "name": "stdout",
     "output_type": "stream",
     "text": [
      "Nb of jobs :  6\n",
      "Nb of machines :  6\n"
     ]
    }
   ],
   "source": [
    "import numpy as np\n",
    "datapath = './example.data'\n",
    "\n",
    "def read_data(datapath):\n",
    "    jobs = []\n",
    "\n",
    "    with open(datapath,'r') as fp:\n",
    "        for line in fp:\n",
    "            tasks = []\n",
    "            if len(line.split()) == 2: \n",
    "                NB_MACHINES = int(line.split()[1])\n",
    "            else :\n",
    "                tasks = list(map(lambda x : int(x),line.split()))\n",
    "                tasks = np.array(tasks).reshape(NB_MACHINES,2)\n",
    "                jobs.append(tasks)    \n",
    "    return np.array(jobs)\n",
    "\n",
    "jobs = read_data(datapath)\n",
    "NB_JOBS = jobs.shape[0]\n",
    "NB_MACHINES = jobs.shape[1]\n",
    "print(\"Nb of jobs : \", NB_JOBS)\n",
    "print(\"Nb of machines : \", NB_MACHINES)"
   ]
  },
  {
   "cell_type": "code",
   "execution_count": 2,
   "metadata": {},
   "outputs": [
    {
     "name": "stdout",
     "output_type": "stream",
     "text": [
      "First job requires the execution of :\n",
      "Task 0 on machine 2 of duration 1\n",
      "Task 1 on machine 0 of duration 3\n",
      "Task 2 on machine 1 of duration 6\n",
      "Task 3 on machine 3 of duration 7\n",
      "Task 4 on machine 5 of duration 3\n",
      "Task 5 on machine 4 of duration 6\n"
     ]
    }
   ],
   "source": [
    "print(\"First job requires the execution of :\")\n",
    "for i in range(NB_MACHINES):\n",
    "    print(\"Task %d on machine %d of duration %d\" % (i,jobs[0][i][0],jobs[0][i][1]))"
   ]
  },
  {
   "cell_type": "markdown",
   "metadata": {},
   "source": [
    "Create a matrix machine that satisfies: machine[i][k] is the machine of the $k^{th}$ task of job $i$ (one line)"
   ]
  },
  {
   "cell_type": "code",
   "execution_count": 3,
   "metadata": {},
   "outputs": [
    {
     "name": "stdout",
     "output_type": "stream",
     "text": [
      "[[2. 0. 1. 3. 5. 4.]\n",
      " [1. 2. 4. 5. 0. 3.]\n",
      " [2. 3. 5. 0. 1. 4.]\n",
      " [1. 0. 2. 3. 4. 5.]\n",
      " [2. 1. 4. 5. 0. 3.]\n",
      " [1. 3. 5. 0. 4. 2.]]\n"
     ]
    }
   ],
   "source": [
    "machine = np.ones((NB_JOBS, NB_MACHINES))                       # initialize with ones\n",
    "for id_job in range(NB_JOBS):\n",
    "    for id_task in range(NB_MACHINES):\n",
    "        machine[id_job][id_task] = int(jobs[id_job][id_task][0])\n",
    "print(machine)"
   ]
  },
  {
   "cell_type": "markdown",
   "metadata": {},
   "source": [
    "Create a matrix duration that satisfies: duration[i][k] is the duration of the $k^{th}$ task of job $i$ (one line)"
   ]
  },
  {
   "cell_type": "code",
   "execution_count": 4,
   "metadata": {},
   "outputs": [
    {
     "name": "stdout",
     "output_type": "stream",
     "text": [
      "[[ 1.  3.  6.  7.  3.  6.]\n",
      " [ 8.  5. 10. 10. 10.  4.]\n",
      " [ 5.  4.  8.  9.  1.  7.]\n",
      " [ 5.  5.  5.  3.  8.  9.]\n",
      " [ 9.  3.  5.  4.  3.  1.]\n",
      " [ 3.  3.  9. 10.  4.  1.]]\n"
     ]
    }
   ],
   "source": [
    "duration = np.zeros((NB_JOBS, NB_MACHINES))                       # initialize with zeros\n",
    "for id_job in range(NB_JOBS):\n",
    "    for id_task in range(NB_MACHINES):\n",
    "        duration[id_job,id_task] = int(jobs[id_job,id_task,1])\n",
    "print(duration)"
   ]
  },
  {
   "cell_type": "markdown",
   "metadata": {},
   "source": [
    "Compute a naive upper bound for the makespan. Note: this upper bound will be used as an upper bound for every interval variable we create."
   ]
  },
  {
   "cell_type": "code",
   "execution_count": 5,
   "metadata": {},
   "outputs": [
    {
     "name": "stdout",
     "output_type": "stream",
     "text": [
      "A naive upper bound = 197, where we respectively finish each task of each jobs\n"
     ]
    }
   ],
   "source": [
    "naive_ub = np.sum(np.sum(duration))\n",
    "print(\"A naive upper bound = %d, where we respectively finish each task of each jobs\" % naive_ub)"
   ]
  },
  {
   "cell_type": "markdown",
   "metadata": {},
   "source": [
    "Create a CpoModel() and the different interval variables you need to solve this problem (don't forget to use the upper bound you computed earlier)"
   ]
  },
  {
   "cell_type": "code",
   "execution_count": 6,
   "metadata": {},
   "outputs": [
    {
     "name": "stderr",
     "output_type": "stream",
     "text": [
      "/Users/msiala/.local/lib/python3.7/site-packages/docplex/cp/__init__.py:30: RuntimeWarning: DOcplex.CP is supported by Python versions 2.7.9+, 3.4.x, 3.5.x and 3.6.x, not '3.7.6.final.0'. Use it at your own risk.\n",
      "  warnings.warn(msg, RuntimeWarning)\n"
     ]
    }
   ],
   "source": [
    "from docplex.cp.model import CpoModel\n",
    "from docplex.cp.modeler import all_diff\n",
    "from config import setup\n",
    "setup()\n",
    "\n",
    "model = CpoModel(name=\"Job scheduling problem\")\n",
    "job_operations = [[model.interval_var(end=(0,int(naive_ub)), size=int(duration[j][m]), name=\"O{}-{}\".format(j, m)) \n",
    "                   for m in range(NB_MACHINES)] for j in range(NB_JOBS)]\n"
   ]
  },
  {
   "cell_type": "markdown",
   "metadata": {},
   "source": [
    "Post the precedence constraints using the end_before_start constraints "
   ]
  },
  {
   "cell_type": "code",
   "execution_count": 7,
   "metadata": {},
   "outputs": [],
   "source": [
    "for id_job in range(NB_JOBS):\n",
    "    for id_task in range(NB_MACHINES-1):\n",
    "        model.add(model.end_before_start(job_operations[id_job][id_task],job_operations[id_job][id_task+1]))"
   ]
  },
  {
   "cell_type": "markdown",
   "metadata": {},
   "source": [
    "Post the disjunctive constraints using the no-overlap constraints "
   ]
  },
  {
   "cell_type": "code",
   "execution_count": 8,
   "metadata": {},
   "outputs": [
    {
     "name": "stdout",
     "output_type": "stream",
     "text": [
      "0 0\n",
      "0 1\n",
      "0 2\n",
      "0 3\n",
      "0 4\n",
      "0 5\n",
      "1 0\n",
      "1 1\n",
      "1 2\n",
      "1 3\n",
      "1 4\n",
      "1 5\n",
      "2 0\n",
      "2 1\n",
      "2 2\n",
      "2 3\n",
      "2 4\n",
      "2 5\n",
      "3 0\n",
      "3 1\n",
      "3 2\n",
      "3 3\n",
      "3 4\n",
      "3 5\n",
      "4 0\n",
      "4 1\n",
      "4 2\n",
      "4 3\n",
      "4 4\n",
      "4 5\n",
      "5 0\n",
      "5 1\n",
      "5 2\n",
      "5 3\n",
      "5 4\n",
      "5 5\n"
     ]
    }
   ],
   "source": [
    "machine_op = [[] for i in range(NB_JOBS)]\n",
    "for id_job in range(NB_JOBS):\n",
    "    for id_task in range(NB_MACHINES):\n",
    "        print(id_job, id_task)\n",
    "        machine_op[int(machine[id_job][id_task])].append(job_operations[id_job][id_task]) \n",
    "for id_machine in range(NB_MACHINES):\n",
    "    model.add(model.no_overlap(machine_op[id_machine]))"
   ]
  },
  {
   "cell_type": "markdown",
   "metadata": {},
   "source": [
    "Create a makespan interval variable and link it to some variables using the max global constraint\n",
    "http://ibmdecisionoptimization.github.io/docplex-doc/cp/docplex.cp.modeler.py.html?highlight=max#docplex.cp.modeler.max"
   ]
  },
  {
   "cell_type": "code",
   "execution_count": 9,
   "metadata": {},
   "outputs": [],
   "source": [
    "max_global_constraint = model.max([model.end_of(job_operations[i][NB_MACHINES - 1]) for i in range(NB_JOBS)])"
   ]
  },
  {
   "cell_type": "markdown",
   "metadata": {},
   "source": [
    "Add now the makespan as an objective function "
   ]
  },
  {
   "cell_type": "code",
   "execution_count": 10,
   "metadata": {},
   "outputs": [],
   "source": [
    "model.add(model.minimize(max_global_constraint))"
   ]
  },
  {
   "cell_type": "markdown",
   "metadata": {},
   "source": [
    "Solve this instance. What is the value of the makespan you found. You can print the solution in a format that is easy \n",
    "to see visually.  "
   ]
  },
  {
   "cell_type": "code",
   "execution_count": 11,
   "metadata": {},
   "outputs": [
    {
     "name": "stdout",
     "output_type": "stream",
     "text": [
      "Model: Job scheduling problem\n",
      " - expressions: 37\n",
      " - modeling time: 11.68 sec\n"
     ]
    }
   ],
   "source": [
    "model.print_information()"
   ]
  },
  {
   "cell_type": "code",
   "execution_count": 32,
   "metadata": {},
   "outputs": [
    {
     "name": "stdout",
     "output_type": "stream",
     "text": [
      "-------------------------------------------------------------------------------\n",
      "Model constraints: 36, variables: integer: 0, interval: 36, sequence: 6\n",
      "Solve status: Optimal\n",
      "Search status: SearchCompleted, stop cause: SearchHasNotBeenStopped\n",
      "Solve time: 0.01 sec\n",
      "-------------------------------------------------------------------------------\n",
      "Objective values: (55,)\n",
      "          bounds: (55,)\n",
      "          gaps: (0,)\n",
      "O0-0: (start=5, end=6, size=1, length=1)\n",
      "O0-1: (start=6, end=9, size=3, length=3)\n",
      "O0-2: (start=16, end=22, size=6, length=6)\n",
      "O0-3: (start=30, end=37, size=7, length=7)\n",
      "O0-4: (start=42, end=45, size=3, length=3)\n",
      "O0-5: (start=49, end=55, size=6, length=6)\n",
      "O1-0: (start=0, end=8, size=8, length=8)\n",
      "O1-1: (start=8, end=13, size=5, length=5)\n",
      "O1-2: (start=13, end=23, size=10, length=10)\n",
      "O1-3: (start=28, end=38, size=10, length=10)\n",
      "O1-4: (start=38, end=48, size=10, length=10)\n",
      "O1-5: (start=48, end=52, size=4, length=4)\n",
      "O2-0: (start=0, end=5, size=5, length=5)\n",
      "O2-1: (start=5, end=9, size=4, length=4)\n",
      "O2-2: (start=9, end=17, size=8, length=8)\n",
      "O2-3: (start=18, end=27, size=9, length=9)\n",
      "O2-4: (start=27, end=28, size=1, length=1)\n",
      "O2-5: (start=38, end=45, size=7, length=7)\n",
      "O3-0: (start=8, end=13, size=5, length=5)\n",
      "O3-1: (start=13, end=18, size=5, length=5)\n",
      "O3-2: (start=22, end=27, size=5, length=5)\n",
      "O3-3: (start=27, end=30, size=3, length=3)\n",
      "O3-4: (start=30, end=38, size=8, length=8)\n",
      "O3-5: (start=45, end=54, size=9, length=9)\n",
      "O4-0: (start=13, end=22, size=9, length=9)\n",
      "O4-1: (start=22, end=25, size=3, length=3)\n",
      "O4-2: (start=25, end=30, size=5, length=5)\n",
      "O4-3: (start=38, end=42, size=4, length=4)\n",
      "O4-4: (start=48, end=51, size=3, length=3)\n",
      "O4-5: (start=52, end=53, size=1, length=1)\n",
      "O5-0: (start=13, end=16, size=3, length=3)\n",
      "O5-1: (start=16, end=19, size=3, length=3)\n",
      "O5-2: (start=19, end=28, size=9, length=9)\n",
      "O5-3: (start=28, end=38, size=10, length=10)\n",
      "O5-4: (start=45, end=49, size=4, length=4)\n",
      "O5-5: (start=49, end=50, size=1, length=1)\n"
     ]
    }
   ],
   "source": [
    "sol = model.solve() #, SearchType='Restart',DefaultInferenceLevel = \"Medium\")\n",
    "sol.print_solution()"
   ]
  },
  {
   "cell_type": "markdown",
   "metadata": {},
   "source": [
    "Factorise your code so that it takes as input the data file and it solves the problem. Try to use few other instances https://github.com/tamy0612/JSPLIB/tree/master/instances\n",
    "    \n",
    "    \n"
   ]
  },
  {
   "cell_type": "code",
   "execution_count": 49,
   "metadata": {},
   "outputs": [],
   "source": [
    "def solve_jobs_scheduling (datapath):\n",
    "    # ========================\n",
    "    # \n",
    "    # ========================\n",
    "    jobs = read_data(datapath)\n",
    "    NB_JOBS = jobs.shape[0]\n",
    "    NB_MACHINES = jobs.shape[1]\n",
    "    print(\"Nb of jobs : \", NB_JOBS)\n",
    "    print(\"Nb of machines : \", NB_MACHINES)\n",
    "    \n",
    "    # ========================\n",
    "    # Create a matrix of machine for each task\n",
    "    # ========================\n",
    "    machine = np.ones((NB_JOBS, NB_MACHINES))                       # initialize with ones\n",
    "    for id_job in range(NB_JOBS):\n",
    "        for id_task in range(NB_MACHINES):\n",
    "            machine[id_job][id_task] = int(jobs[id_job][id_task][0])\n",
    "    print(machine)\n",
    "    # ========================\n",
    "    # Create a matrix of duration for each task\n",
    "    # ========================\n",
    "    duration = np.zeros((NB_JOBS, NB_MACHINES))                       # initialize with zeros\n",
    "    for id_job in range(NB_JOBS):\n",
    "        for id_task in range(NB_MACHINES):\n",
    "            duration[id_job,id_task] = int(jobs[id_job,id_task,1])\n",
    "    \n",
    "    \n",
    "    # ========================\n",
    "    # Compute the naive upper bound\n",
    "    # ========================\n",
    "    naive_ub = np.sum(np.sum(duration))\n",
    "    print(\"A naive upper bound = %d, where we respectively finish each task of each jobs\" % naive_ub)\n",
    "    \n",
    "    # ========================\n",
    "    # Create CpoModel & Initialize interval variables for each task\n",
    "    # ========================\n",
    "    model = CpoModel(name=\"Job scheduling problem\")\n",
    "    job_operations = [[model.interval_var(end=(0,int(naive_ub)), size=int(duration[j][m]), name=\"O{}-{}\".format(j, m)) \n",
    "                   for m in range(NB_MACHINES)] for j in range(NB_JOBS)]\n",
    "    \n",
    "    \n",
    "    # ========================\n",
    "    # Add Precedence constraints\n",
    "    # ========================\n",
    "    for id_job in range(NB_JOBS):\n",
    "        for id_task in range(NB_MACHINES-1):\n",
    "            model.add(model.end_before_start(job_operations[id_job][id_task],job_operations[id_job][id_task+1]))\n",
    "            \n",
    "    # ========================\n",
    "    # Add Disjunctive constraints\n",
    "    # ========================\n",
    "    machine_op = [[] for i in range(NB_JOBS)]\n",
    "    for id_job in range(NB_JOBS):\n",
    "        for id_task in range(NB_MACHINES):\n",
    "            machine_op[int(machine[id_job][id_task])].append(job_operations[id_job][id_task]) \n",
    "    for id_machine in range(NB_MACHINES):\n",
    "        model.add(model.no_overlap(machine_op[id_machine]))\n",
    "    \n",
    "    # ========================\n",
    "    # Add objective function\n",
    "    # ========================\n",
    "    max_global_constraint = model.max([model.end_of(job_operations[i][NB_MACHINES - 1]) for i in range(NB_JOBS)])\n",
    "    model.add(model.minimize(max_global_constraint))\n",
    "    \n",
    "    # ========================\n",
    "    # Print information of created model \n",
    "    # ========================\n",
    "    model.print_information()\n",
    "    \n",
    "    # ========================\n",
    "    # Solve the problem\n",
    "    # ========================\n",
    "    sol = model.solve() #, SearchType='Restart',DefaultInferenceLevel = \"Medium\")\n",
    "    sol.print_solution()\n",
    "    \n",
    "    return sol"
   ]
  },
  {
   "cell_type": "code",
   "execution_count": 50,
   "metadata": {},
   "outputs": [
    {
     "name": "stdout",
     "output_type": "stream",
     "text": [
      "Nb of jobs :  6\n",
      "Nb of machines :  6\n",
      "[[2. 0. 1. 3. 5. 4.]\n",
      " [1. 2. 4. 5. 0. 3.]\n",
      " [2. 3. 5. 0. 1. 4.]\n",
      " [1. 0. 2. 3. 4. 5.]\n",
      " [2. 1. 4. 5. 0. 3.]\n",
      " [1. 3. 5. 0. 4. 2.]]\n",
      "A naive upper bound = 197, where we respectively finish each task of each jobs\n",
      "Model: Job scheduling problem\n",
      " - expressions: 37\n",
      " - modeling time: 0.03 sec\n",
      "-------------------------------------------------------------------------------\n",
      "Model constraints: 36, variables: integer: 0, interval: 36, sequence: 6\n",
      "Solve status: Optimal\n",
      "Search status: SearchCompleted, stop cause: SearchHasNotBeenStopped\n",
      "Solve time: 0.01 sec\n",
      "-------------------------------------------------------------------------------\n",
      "Objective values: (55,)\n",
      "          bounds: (55,)\n",
      "          gaps: (0,)\n",
      "O0-0: (start=5, end=6, size=1, length=1)\n",
      "O0-1: (start=6, end=9, size=3, length=3)\n",
      "O0-2: (start=16, end=22, size=6, length=6)\n",
      "O0-3: (start=30, end=37, size=7, length=7)\n",
      "O0-4: (start=42, end=45, size=3, length=3)\n",
      "O0-5: (start=49, end=55, size=6, length=6)\n",
      "O1-0: (start=0, end=8, size=8, length=8)\n",
      "O1-1: (start=8, end=13, size=5, length=5)\n",
      "O1-2: (start=13, end=23, size=10, length=10)\n",
      "O1-3: (start=28, end=38, size=10, length=10)\n",
      "O1-4: (start=38, end=48, size=10, length=10)\n",
      "O1-5: (start=48, end=52, size=4, length=4)\n",
      "O2-0: (start=0, end=5, size=5, length=5)\n",
      "O2-1: (start=5, end=9, size=4, length=4)\n",
      "O2-2: (start=9, end=17, size=8, length=8)\n",
      "O2-3: (start=18, end=27, size=9, length=9)\n",
      "O2-4: (start=27, end=28, size=1, length=1)\n",
      "O2-5: (start=38, end=45, size=7, length=7)\n",
      "O3-0: (start=8, end=13, size=5, length=5)\n",
      "O3-1: (start=13, end=18, size=5, length=5)\n",
      "O3-2: (start=22, end=27, size=5, length=5)\n",
      "O3-3: (start=27, end=30, size=3, length=3)\n",
      "O3-4: (start=30, end=38, size=8, length=8)\n",
      "O3-5: (start=45, end=54, size=9, length=9)\n",
      "O4-0: (start=13, end=22, size=9, length=9)\n",
      "O4-1: (start=22, end=25, size=3, length=3)\n",
      "O4-2: (start=25, end=30, size=5, length=5)\n",
      "O4-3: (start=38, end=42, size=4, length=4)\n",
      "O4-4: (start=48, end=51, size=3, length=3)\n",
      "O4-5: (start=52, end=53, size=1, length=1)\n",
      "O5-0: (start=13, end=16, size=3, length=3)\n",
      "O5-1: (start=16, end=19, size=3, length=3)\n",
      "O5-2: (start=19, end=28, size=9, length=9)\n",
      "O5-3: (start=28, end=38, size=10, length=10)\n",
      "O5-4: (start=45, end=49, size=4, length=4)\n",
      "O5-5: (start=49, end=50, size=1, length=1)\n"
     ]
    }
   ],
   "source": [
    "msol = solve_jobs_scheduling(\"example.data\")"
   ]
  },
  {
   "cell_type": "markdown",
   "metadata": {},
   "source": [
    "At this stage you are completly free to play. Try different instances, different configurations of the solver, different branching strategies, restarts, randomisation, etc. \n",
    "\n",
    "You may want to present your results as a cactus 🌵 plot : in the x-axis we have the runtime, on the y-axis, we have the number of instances solved. Also, some instances are still open in the literature. Have a look here for an up to date list of bounds http://optimizizer.com/TA.php"
   ]
  },
  {
   "cell_type": "code",
   "execution_count": 51,
   "metadata": {},
   "outputs": [
    {
     "name": "stdout",
     "output_type": "stream",
     "text": [
      "[[2. 0. 1. 3. 5. 4.]\n",
      " [1. 2. 4. 5. 0. 3.]\n",
      " [2. 3. 5. 0. 1. 4.]\n",
      " [1. 0. 2. 3. 4. 5.]\n",
      " [2. 1. 4. 5. 0. 3.]\n",
      " [1. 3. 5. 0. 4. 2.]]\n"
     ]
    },
    {
     "ename": "AssertionError",
     "evalue": "Wrong type for interval color: use 'int' or 'str'",
     "output_type": "error",
     "traceback": [
      "\u001b[0;31m---------------------------------------------------------------------------\u001b[0m",
      "\u001b[0;31mAssertionError\u001b[0m                            Traceback (most recent call last)",
      "\u001b[0;32m<ipython-input-51-0ed59a201378>\u001b[0m in \u001b[0;36m<module>\u001b[0;34m\u001b[0m\n\u001b[1;32m      8\u001b[0m         visu.sequence(name='J' + str(i),\n\u001b[1;32m      9\u001b[0m                       intervals=[(msol.get_var_solution(job_operations[i][j]), machine[i][j], 'M' + str(machine[i][j])) for j in\n\u001b[0;32m---> 10\u001b[0;31m                                  range(NB_MACHINES)])\n\u001b[0m\u001b[1;32m     11\u001b[0m     \u001b[0mvisu\u001b[0m\u001b[0;34m.\u001b[0m\u001b[0mpanel\u001b[0m\u001b[0;34m(\u001b[0m\u001b[0;34m\"Machines\"\u001b[0m\u001b[0;34m)\u001b[0m\u001b[0;34m\u001b[0m\u001b[0;34m\u001b[0m\u001b[0m\n\u001b[1;32m     12\u001b[0m     \u001b[0;32mfor\u001b[0m \u001b[0mk\u001b[0m \u001b[0;32min\u001b[0m \u001b[0mrange\u001b[0m\u001b[0;34m(\u001b[0m\u001b[0mNB_MACHINES\u001b[0m\u001b[0;34m)\u001b[0m\u001b[0;34m:\u001b[0m\u001b[0;34m\u001b[0m\u001b[0;34m\u001b[0m\u001b[0m\n",
      "\u001b[0;32m~/.local/lib/python3.7/site-packages/docplex/cp/utils_visu.py\u001b[0m in \u001b[0;36msequence\u001b[0;34m(name, intervals, transitions, segments)\u001b[0m\n\u001b[1;32m   1356\u001b[0m     \u001b[0;32mif\u001b[0m \u001b[0mitvs\u001b[0m \u001b[0;32mis\u001b[0m \u001b[0;32mnot\u001b[0m \u001b[0;32mNone\u001b[0m\u001b[0;34m:\u001b[0m\u001b[0;34m\u001b[0m\u001b[0;34m\u001b[0m\u001b[0m\n\u001b[1;32m   1357\u001b[0m         \u001b[0;32mfor\u001b[0m \u001b[0mi\u001b[0m \u001b[0;32min\u001b[0m \u001b[0mitvs\u001b[0m\u001b[0;34m:\u001b[0m\u001b[0;34m\u001b[0m\u001b[0;34m\u001b[0m\u001b[0m\n\u001b[0;32m-> 1358\u001b[0;31m             \u001b[0minterval\u001b[0m\u001b[0;34m(\u001b[0m\u001b[0;34m*\u001b[0m\u001b[0mi\u001b[0m\u001b[0;34m)\u001b[0m\u001b[0;34m\u001b[0m\u001b[0;34m\u001b[0m\u001b[0m\n\u001b[0m\u001b[1;32m   1359\u001b[0m \u001b[0;34m\u001b[0m\u001b[0m\n\u001b[1;32m   1360\u001b[0m     \u001b[0;32mif\u001b[0m \u001b[0mtransitions\u001b[0m \u001b[0;32mis\u001b[0m \u001b[0;32mnot\u001b[0m \u001b[0;32mNone\u001b[0m\u001b[0;34m:\u001b[0m\u001b[0;34m\u001b[0m\u001b[0;34m\u001b[0m\u001b[0m\n",
      "\u001b[0;32m~/.local/lib/python3.7/site-packages/docplex/cp/utils_visu.py\u001b[0m in \u001b[0;36minterval\u001b[0;34m(*args)\u001b[0m\n\u001b[1;32m   1456\u001b[0m         \u001b[0minterval\u001b[0m\u001b[0;34m(\u001b[0m\u001b[0mitvsol\u001b[0m\u001b[0;34m)\u001b[0m\u001b[0;34m\u001b[0m\u001b[0;34m\u001b[0m\u001b[0m\n\u001b[1;32m   1457\u001b[0m     \"\"\"\n\u001b[0;32m-> 1458\u001b[0;31m     \u001b[0m_visu\u001b[0m\u001b[0;34m.\u001b[0m\u001b[0minterval\u001b[0m\u001b[0;34m(\u001b[0m\u001b[0;34m*\u001b[0m\u001b[0m_canonical_interval\u001b[0m\u001b[0;34m(\u001b[0m\u001b[0;34m*\u001b[0m\u001b[0margs\u001b[0m\u001b[0;34m)\u001b[0m\u001b[0;34m)\u001b[0m\u001b[0;34m\u001b[0m\u001b[0;34m\u001b[0m\u001b[0m\n\u001b[0m\u001b[1;32m   1459\u001b[0m \u001b[0;34m\u001b[0m\u001b[0m\n\u001b[1;32m   1460\u001b[0m \u001b[0;34m\u001b[0m\u001b[0m\n",
      "\u001b[0;32m~/.local/lib/python3.7/site-packages/docplex/cp/utils_visu.py\u001b[0m in \u001b[0;36m_canonical_interval\u001b[0;34m(*args)\u001b[0m\n\u001b[1;32m   1007\u001b[0m     \u001b[0;32mif\u001b[0m \u001b[0mk\u001b[0m \u001b[0;34m<\u001b[0m \u001b[0mn\u001b[0m\u001b[0;34m:\u001b[0m\u001b[0;34m\u001b[0m\u001b[0;34m\u001b[0m\u001b[0m\n\u001b[1;32m   1008\u001b[0m         \u001b[0mcolor\u001b[0m \u001b[0;34m=\u001b[0m \u001b[0margs\u001b[0m\u001b[0;34m[\u001b[0m\u001b[0mk\u001b[0m\u001b[0;34m]\u001b[0m\u001b[0;34m\u001b[0m\u001b[0;34m\u001b[0m\u001b[0m\n\u001b[0;32m-> 1009\u001b[0;31m         \u001b[0;32massert\u001b[0m \u001b[0mcolor\u001b[0m \u001b[0;32mis\u001b[0m \u001b[0;32mNone\u001b[0m \u001b[0;32mor\u001b[0m \u001b[0mis_int\u001b[0m\u001b[0;34m(\u001b[0m\u001b[0mcolor\u001b[0m\u001b[0;34m)\u001b[0m \u001b[0;32mor\u001b[0m \u001b[0mis_string\u001b[0m\u001b[0;34m(\u001b[0m\u001b[0mcolor\u001b[0m\u001b[0;34m)\u001b[0m\u001b[0;34m,\u001b[0m \u001b[0;34m\"Wrong type for interval color: use 'int' or 'str'\"\u001b[0m\u001b[0;34m\u001b[0m\u001b[0;34m\u001b[0m\u001b[0m\n\u001b[0m\u001b[1;32m   1010\u001b[0m         \u001b[0mk\u001b[0m \u001b[0;34m+=\u001b[0m \u001b[0;36m1\u001b[0m\u001b[0;34m\u001b[0m\u001b[0;34m\u001b[0m\u001b[0m\n\u001b[1;32m   1011\u001b[0m     \u001b[0;32mif\u001b[0m \u001b[0mk\u001b[0m \u001b[0;34m<\u001b[0m \u001b[0mn\u001b[0m\u001b[0;34m:\u001b[0m\u001b[0;34m\u001b[0m\u001b[0;34m\u001b[0m\u001b[0m\n",
      "\u001b[0;31mAssertionError\u001b[0m: Wrong type for interval color: use 'int' or 'str'"
     ]
    }
   ],
   "source": [
    "#Ceci permet d'afficher les solutions. Je n'arrive pas à débugger.. \n",
    "\n",
    "import docplex.cp.utils_visu as visu\n",
    "print (machine)\n",
    "\n",
    "if msol and visu.is_visu_enabled():\n",
    "    visu.timeline(\"Solution for job-shop \" + datapath)\n",
    "    visu.panel(\"Jobs\")\n",
    "    for i in range(NB_JOBS):\n",
    "        visu.sequence(name='J' + str(i),\n",
    "                      intervals=[(msol.get_var_solution(job_operations[i][j]), machine[i][j], 'M' + str(machine[i][j])) for j in\n",
    "                                 range(NB_MACHINES)])\n",
    "    visu.panel(\"Machines\")\n",
    "    for k in range(NB_MACHINES):\n",
    "        visu.sequence(name='M' + str(k),\n",
    "                      intervals=[(msol.get_var_solution(machine_operations[k][i]), k, 'J' + str(i)) for i in range(NB_JOBS)])\n",
    "    visu.show()"
   ]
  },
  {
   "cell_type": "markdown",
   "metadata": {},
   "source": [
    "What did you learn loday? "
   ]
  },
  {
   "cell_type": "raw",
   "metadata": {},
   "source": [
    "We learnt how to resolve scheduling problem with CSP, by considering the two following global constraints : the end_before_start and no_overlap. "
   ]
  }
 ],
 "metadata": {
  "kernelspec": {
   "display_name": "Python 3",
   "language": "python",
   "name": "python3"
  },
  "language_info": {
   "codemirror_mode": {
    "name": "ipython",
    "version": 3
   },
   "file_extension": ".py",
   "mimetype": "text/x-python",
   "name": "python",
   "nbconvert_exporter": "python",
   "pygments_lexer": "ipython3",
   "version": "3.7.6"
  },
  "latex_envs": {
   "LaTeX_envs_menu_present": true,
   "autoclose": false,
   "autocomplete": true,
   "bibliofile": "biblio.bib",
   "cite_by": "apalike",
   "current_citInitial": 1,
   "eqLabelWithNumbers": true,
   "eqNumInitial": 1,
   "hotkeys": {
    "equation": "Ctrl-E",
    "itemize": "Ctrl-I"
   },
   "labels_anchors": false,
   "latex_user_defs": false,
   "report_style_numbering": false,
   "user_envs_cfg": false
  }
 },
 "nbformat": 4,
 "nbformat_minor": 2
}
